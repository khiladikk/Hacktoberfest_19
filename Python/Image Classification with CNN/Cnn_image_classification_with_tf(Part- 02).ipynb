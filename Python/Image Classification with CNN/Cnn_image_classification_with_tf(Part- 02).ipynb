{
  "nbformat": 4,
  "nbformat_minor": 0,
  "metadata": {
    "colab": {
      "name": "Cnn_image_classification_with_tf.ipynb",
      "version": "0.3.2",
      "provenance": [],
      "collapsed_sections": []
    },
    "kernelspec": {
      "name": "python3",
      "display_name": "Python 3"
    },
    "accelerator": "GPU"
  },
  "cells": [
    {
      "cell_type": "code",
      "metadata": {
        "id": "x2bkczbykNiq",
        "colab_type": "code",
        "colab": {}
      },
      "source": [
        "####    Importing Our Dependencies   ####\n",
        "%matplotlib inline\n",
        "import numpy as np \n",
        "import tensorflow as tf\n",
        "import pandas as pd\n",
        "from keras.datasets import cifar10\n",
        "import matplotlib.pyplot as plt\n",
        "from keras.utils import to_categorical"
      ],
      "execution_count": 0,
      "outputs": []
    },
    {
      "cell_type": "markdown",
      "metadata": {
        "id": "aS7Vs1apGy7O",
        "colab_type": "text"
      },
      "source": [
        "## **Downloading Our Dataset** "
      ]
    },
    {
      "cell_type": "code",
      "metadata": {
        "id": "NsGqUcGCG3J2",
        "colab_type": "code",
        "colab": {
          "base_uri": "https://localhost:8080/",
          "height": 51
        },
        "outputId": "be79e455-c363-435d-f2e0-3099bda18946"
      },
      "source": [
        "(XTrain,YTrain),(XTest,YTest) = cifar10.load_data()"
      ],
      "execution_count": 8,
      "outputs": [
        {
          "output_type": "stream",
          "text": [
            "Downloading data from https://www.cs.toronto.edu/~kriz/cifar-10-python.tar.gz\n",
            "170500096/170498071 [==============================] - 6s 0us/step\n"
          ],
          "name": "stdout"
        }
      ]
    },
    {
      "cell_type": "code",
      "metadata": {
        "id": "G9R3gGViNyGm",
        "colab_type": "code",
        "colab": {
          "base_uri": "https://localhost:8080/",
          "height": 269
        },
        "outputId": "5e039b38-9982-4dca-de80-6d25e6f62b2f"
      },
      "source": [
        "plt.imshow(XTrain[7])\n",
        "plt.show()"
      ],
      "execution_count": 18,
      "outputs": [
        {
          "output_type": "display_data",
          "data": {
            "image/png": "[encoded data removed]",
            "text/plain": [
              "<Figure size 432x288 with 1 Axes>"
            ]
          },
          "metadata": {
            "tags": []
          }
        }
      ]
    },
    {
      "cell_type": "markdown",
      "metadata": {
        "id": "ZuQpReKrHVHx",
        "colab_type": "text"
      },
      "source": [
        "## **More about the cifar10 dataset**\n",
        "\n",
        "The CIFAR-10 dataset consists of 10 object classes dogs, cats, aeroplanes, automobile, deer, horse, ship, truck, frog, bird. \n",
        "\n",
        "The dataset contains coloured images of dimensions 32 x 32. As the documentation states that the data files contains numpy arrays of (10000 * 3072) in row major order 32 height x 32 width x 3 channels RGB = 3072.\n",
        "\n",
        "There are 10000 images per data_batch = 50000 train images 10000 test images. The first 1024 channels are for red channel ,next for green channel and then blue.\n",
        "\n",
        "We will require the labels to be one-hot encoded and the images require to be normalized.\n",
        "\n",
        "### The Labels\n",
        "\n",
        "The original order of the data labels are:\n",
        "\n",
        "0 airplane\n",
        "1 automobile\n",
        "2 bird\n",
        "3 cat\n",
        "4 deer\n",
        "5 dog\n",
        "6 frog\n",
        "7 horse\n",
        "8 ship\n",
        "9 truck"
      ]
    },
    {
      "cell_type": "markdown",
      "metadata": {
        "id": "sL-sj3fOMbRA",
        "colab_type": "text"
      },
      "source": [
        "## Reshaping the data\n",
        "\n",
        "The reshaping will be done in two steps:\n",
        "\n",
        "First we will use the numpy.reshape() to shape our images and using the np.traspose() function.\n",
        "\n",
        "First we will convert the row vector 3072 into 3 x 1024, as per the channel.\n",
        "Secondly, we will convert it to 3 x 32 x 32 by dividing the tensor resulting from the first reshape by 32 where 32 is the width of the image because of the row major order.\n",
        "The reshape function will be called with parameters, (10000, 3, 32, 32).\n",
        "\n",
        "Now, the data is represented as (num_channel , width , height) form. But tensorflow and matplotlib expect a different shape. They expect (width , height , num_channel) instead. We need to swap the order using the transpose.\n",
        "\n",
        "The transpose function can take a list of axes, and each value specifies where it wants to move around. For example, calling transpose with argument (1, 2, 0) in an numpy array of (num_channel, width, height) will return a new numpy array of (width, height, num_channel)."
      ]
    },
    {
      "cell_type": "code",
      "metadata": {
        "id": "eiuxIArpGxqi",
        "colab_type": "code",
        "colab": {}
      },
      "source": [
        "def batch(X,Y,size):\n",
        "  random_indices = np.random.randint(np.size(Y[:,0]),size = (size,1))\n",
        "  x_batch = X[random_indices]\n",
        "  x_batch = x_batch.reshape(size,32,32,3)\n",
        "  y_batch = Y[random_indices]\n",
        "  y_batch = y_batch.reshape(size, 10)\n",
        "\n",
        "  return x_batch,y_batch"
      ],
      "execution_count": 0,
      "outputs": []
    },
    {
      "cell_type": "markdown",
      "metadata": {
        "id": "fG4PL3hLLF9I",
        "colab_type": "text"
      },
      "source": [
        "## Building the Network"
      ]
    },
    {
      "cell_type": "code",
      "metadata": {
        "id": "lu-VqOdBKF5w",
        "colab_type": "code",
        "colab": {
          "base_uri": "https://localhost:8080/",
          "height": 170
        },
        "outputId": "2c42834f-f823-4f9e-9b7f-9a83bc520e2d"
      },
      "source": [
        "# Removing the previous weights, biases, inputs from memory\n",
        "\n",
        "tf.reset_default_graph()\n",
        "\n",
        "# #Input\n",
        "x = tf.placeholder(tf.float32,[None,32,32,3])\n",
        "y = tf.placeholder(tf.float32,[None,10])\n",
        "\n",
        "w1  = tf.get_variable('w1',[5,5,3,100],initializer = tf.contrib.layers.xavier_initializer())\n",
        "w2 = tf.get_variable('w2',[3,3,100,100],initializer = tf.contrib.layers.xavier_initializer())\n"
      ],
      "execution_count": 4,
      "outputs": [
        {
          "output_type": "stream",
          "text": [
            "WARNING: Logging before flag parsing goes to stderr.\n",
            "W0810 10:52:47.055202 140261140313984 lazy_loader.py:50] \n",
            "The TensorFlow contrib module will not be included in TensorFlow 2.0.\n",
            "For more information, please see:\n",
            "  * https://github.com/tensorflow/community/blob/master/rfcs/20180907-contrib-sunset.md\n",
            "  * https://github.com/tensorflow/addons\n",
            "  * https://github.com/tensorflow/io (for I/O related ops)\n",
            "If you depend on functionality not listed there, please file an issue.\n",
            "\n"
          ],
          "name": "stderr"
        }
      ]
    },
    {
      "cell_type": "code",
      "metadata": {
        "id": "VQ0l3OGaKRzt",
        "colab_type": "code",
        "colab": {
          "base_uri": "https://localhost:8080/",
          "height": 170
        },
        "outputId": "f8128375-233e-48ee-de54-f48402ff6392"
      },
      "source": [
        "with tf.device('/device:GPU:0'):\n",
        "  cv1 = tf.nn.conv2d(x,w1,strides = [1,1,1,1],padding = 'SAME')\n",
        "  l1out = tf.nn.relu(cv1)\n",
        "  l1out = tf.nn.max_pool(l1out,ksize = [1,2,2,1],padding  = 'SAME',strides = [1,2,2,1])\n",
        "  # l1out = tf.nn.dropout(l1out,0.9)\n",
        "\n",
        "  cv2 = tf.nn.conv2d(l1out,w2,strides = [1,2,2,1],padding = 'SAME')\n",
        "  l2out = tf.nn.relu(cv2)\n",
        "  l2out = tf.nn.max_pool(l2out,ksize = [1,2,2,1],padding = 'SAME',strides = [1,2,2,1])\n",
        "  # l2out = tf.nn.dropout(l2out,0.9)\n",
        "\n",
        "  flat_0 = tf.contrib.layers.flatten(l2out)\n",
        "  flat_1 = tf.layers.dense(flat_0,256,activation = 'relu')\n",
        "  classifier = tf.layers.dense(flat_1,10,activation = tf.nn.softmax)\n",
        "\n",
        "  # Loss function and Optimization\n",
        "  cost = tf.reduce_mean(tf.square(tf.nn.sigmoid(classifier)-y))\n",
        "  Optimizer = tf.train.AdamOptimizer(learning_rate = 0.01).minimize(cost)\n",
        "\n",
        "print(\"Summary:\")\n",
        "print(\"Data_Shape:\",x.shape)\n",
        "print(\"cv1 Shape:\",cv1.shape)\n",
        "print(\"l1out Shape:\",l1out.shape)\n",
        "print(\"cv2 Shape:\",cv2.shape)\n",
        "print(\"l2out Shape: \",l2out.shape)\n",
        "print('flat_0 Shape:',flat_0.shape)\n",
        "print(\"flat_1 Shape:\",flat_1.shape)\n",
        "print(\"Final Shape:\",classifier.shape)"
      ],
      "execution_count": 23,
      "outputs": [
        {
          "output_type": "stream",
          "text": [
            "Summary:\n",
            "Data_Shape: (?, 32, 32, 3)\n",
            "cv1 Shape: (?, 32, 32, 100)\n",
            "l1out Shape: (?, 16, 16, 100)\n",
            "cv2 Shape: (?, 8, 8, 100)\n",
            "l2out Shape:  (?, 4, 4, 100)\n",
            "flat_0 Shape: (?, 1600)\n",
            "flat_1 Shape: (?, 256)\n",
            "Final Shape: (?, 10)\n"
          ],
          "name": "stdout"
        }
      ]
    },
    {
      "cell_type": "code",
      "metadata": {
        "id": "pHA3gR-DKVs9",
        "colab_type": "code",
        "colab": {
          "base_uri": "https://localhost:8080/",
          "height": 34
        },
        "outputId": "fb50e566-c2be-48e0-ddc0-96075f445777"
      },
      "source": [
        "from IPython.display import clear_output\n",
        "\n",
        "S = tf.Session(config = tf.ConfigProto(log_device_placement = True))\n",
        "init = tf.global_variables_initializer()\n",
        "S.run(init)\n",
        "\n",
        "loss = []\n",
        "\n",
        "for i in range(200):\n",
        "  XBatch,YBatch = batch(XTrain, to_categorical(YTrain, num_classes = 10),size = 1000)\n",
        "  fd = {x:XBatch,y:YBatch}\n",
        "  S.run(minimize_this,feed_dict = fd)\n",
        "  clear_output(True) \n",
        "  print(\"Iter: \",i, \"Cost: \",S.run(cost,feed_dict = fd))\n",
        "  loss.append(S.run(cost,feed_dict = fd))"
      ],
      "execution_count": 30,
      "outputs": [
        {
          "output_type": "stream",
          "text": [
            "Iter:  199 Cost:  0.2720163\n"
          ],
          "name": "stdout"
        }
      ]
    },
    {
      "cell_type": "code",
      "metadata": {
        "id": "iGlrYoFjKg3J",
        "colab_type": "code",
        "colab": {
          "base_uri": "https://localhost:8080/",
          "height": 283
        },
        "outputId": "afdbc9e0-a9b2-4b1d-f59d-a5dd8731fb21"
      },
      "source": [
        "plt.plot(loss)\n",
        "plt.xlabel(\"Iterations\")\n",
        "plt.ylabel(\"Cost\")\n",
        "plt.show()"
      ],
      "execution_count": 31,
      "outputs": [
        {
          "output_type": "display_data",
          "data": {
            "image/png": "[encoded data removed]",
            "text/plain": [
              "<Figure size 432x288 with 1 Axes>"
            ]
          },
          "metadata": {
            "tags": []
          }
        }
      ]
    },
    {
      "cell_type": "code",
      "metadata": {
        "id": "2WdyUOEUKrrl",
        "colab_type": "code",
        "colab": {
          "base_uri": "https://localhost:8080/",
          "height": 34
        },
        "outputId": "9ecc3c69-65b7-4c82-8d38-2e03b29ea5d0"
      },
      "source": [
        "# Accuracy\n",
        "\n",
        "predictions = np.argmax(S.run(classifier,feed_dict = {x:XTest,y:to_categorical(YTest, num_classes = 10)}),axis = 1)\n",
        "from sklearn.metrics import accuracy_score\n",
        "print(\"Accuracy: \",accuracy_score(predictions,YTest)*100,\"%\")"
      ],
      "execution_count": 32,
      "outputs": [
        {
          "output_type": "stream",
          "text": [
            "Accuracy:  14.13 %\n"
          ],
          "name": "stdout"
        }
      ]
    },
    {
      "cell_type": "code",
      "metadata": {
        "id": "kIU1qbOSVqoi",
        "colab_type": "code",
        "colab": {}
      },
      "source": [
        ""
      ],
      "execution_count": 0,
      "outputs": []
    }
  ]
}